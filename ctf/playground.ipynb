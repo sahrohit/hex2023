{
 "cells": [
  {
   "cell_type": "code",
   "execution_count": 3,
   "metadata": {},
   "outputs": [
    {
     "data": {
      "text/plain": [
       "'01000011 01010100  01000110  01111011 01011010  00110011  01110010 00110000  01110011  01011111 00110100  01101110  01100100 01011111  00110000  01101110 00110011  01110011  01011111 00110100  01110010  00110011 01011111  01100010  01100101 01110100  01110100  00110011 01110010  01111101'"
      ]
     },
     "execution_count": 3,
     "metadata": {},
     "output_type": "execute_result"
    }
   ],
   "source": [
    "zero= \"🙂☹🙂🙂🙂🙂☹☹ 🙂☹🙂☹🙂☹🙂🙂  🙂☹🙂🙂🙂☹☹🙂  🙂☹☹☹☹🙂☹☹ 🙂☹🙂☹☹🙂☹🙂  🙂🙂☹☹🙂🙂☹☹  🙂☹☹☹🙂🙂☹🙂 🙂🙂☹☹🙂🙂🙂🙂  🙂☹☹☹🙂🙂☹☹  🙂☹🙂☹☹☹☹☹ 🙂🙂☹☹🙂☹🙂🙂  🙂☹☹🙂☹☹☹🙂  🙂☹☹🙂🙂☹🙂🙂 🙂☹🙂☹☹☹☹☹  🙂🙂☹☹🙂🙂🙂🙂  🙂☹☹🙂☹☹☹🙂 🙂🙂☹☹🙂🙂☹☹  🙂☹☹☹🙂🙂☹☹  🙂☹🙂☹☹☹☹☹ 🙂🙂☹☹🙂☹🙂🙂  🙂☹☹☹🙂🙂☹🙂  🙂🙂☹☹🙂🙂☹☹ 🙂☹🙂☹☹☹☹☹  🙂☹☹🙂🙂🙂☹🙂  🙂☹☹🙂🙂☹🙂☹ 🙂☹☹☹🙂☹🙂🙂  🙂☹☹☹🙂☹🙂🙂  🙂🙂☹☹🙂🙂☹☹ 🙂☹☹☹🙂🙂☹🙂  🙂☹☹☹☹☹🙂☹\"\n",
    "zero=zero.replace(\"🙂\", \"0\").replace(\"☹\", \"1\")\n",
    "zero"
   ]
  }
 ],
 "metadata": {
  "kernelspec": {
   "display_name": "Python 3",
   "language": "python",
   "name": "python3"
  },
  "language_info": {
   "codemirror_mode": {
    "name": "ipython",
    "version": 3
   },
   "file_extension": ".py",
   "mimetype": "text/x-python",
   "name": "python",
   "nbconvert_exporter": "python",
   "pygments_lexer": "ipython3",
   "version": "3.11.2"
  },
  "orig_nbformat": 4
 },
 "nbformat": 4,
 "nbformat_minor": 2
}
