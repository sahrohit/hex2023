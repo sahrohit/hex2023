{
 "cells": [
  {
   "cell_type": "code",
   "execution_count": 3,
   "metadata": {},
   "outputs": [
    {
     "data": {
      "text/plain": [
       "'01000011 01010100  01000110  01111011 01011010  00110011  01110010 00110000  01110011  01011111 00110100  01101110  01100100 01011111  00110000  01101110 00110011  01110011  01011111 00110100  01110010  00110011 01011111  01100010  01100101 01110100  01110100  00110011 01110010  01111101'"
      ]
     },
     "execution_count": 3,
     "metadata": {},
     "output_type": "execute_result"
    }
   ],
   "source": [
    "zero= \"🙂☹🙂🙂🙂🙂☹☹ 🙂☹🙂☹🙂☹🙂🙂  🙂☹🙂🙂🙂☹☹🙂  🙂☹☹☹☹🙂☹☹ 🙂☹🙂☹☹🙂☹🙂  🙂🙂☹☹🙂🙂☹☹  🙂☹☹☹🙂🙂☹🙂 🙂🙂☹☹🙂🙂🙂🙂  🙂☹☹☹🙂🙂☹☹  🙂☹🙂☹☹☹☹☹ 🙂🙂☹☹🙂☹🙂🙂  🙂☹☹🙂☹☹☹🙂  🙂☹☹🙂🙂☹🙂🙂 🙂☹🙂☹☹☹☹☹  🙂🙂☹☹🙂🙂🙂🙂  🙂☹☹🙂☹☹☹🙂 🙂🙂☹☹🙂🙂☹☹  🙂☹☹☹🙂🙂☹☹  🙂☹🙂☹☹☹☹☹ 🙂🙂☹☹🙂☹🙂🙂  🙂☹☹☹🙂🙂☹🙂  🙂🙂☹☹🙂🙂☹☹ 🙂☹🙂☹☹☹☹☹  🙂☹☹🙂🙂🙂☹🙂  🙂☹☹🙂🙂☹🙂☹ 🙂☹☹☹🙂☹🙂🙂  🙂☹☹☹🙂☹🙂🙂  🙂🙂☹☹🙂🙂☹☹ 🙂☹☹☹🙂🙂☹🙂  🙂☹☹☹☹☹🙂☹\"\n",
    "zero=zero.replace(\"🙂\", \"0\").replace(\"☹\", \"1\")\n",
    "zero"
   ]
  },
  {
   "cell_type": "code",
   "execution_count": 8,
   "metadata": {},
   "outputs": [
    {
     "name": "stdout",
     "output_type": "stream",
     "text": [
      "Jedied message: MLP{DZOXYJMWSKCLBGXYGADZIGE}\n"
     ]
    }
   ],
   "source": [
    "# We are recieving some sort of message but I am not sure what it is. \n",
    "# It goes something like MLP{DZOXYJMWSKCLBGXYGADZIGE}\n",
    "# we recieved the information about the key, it has something to do with the starting date of the event.\n",
    "\n",
    "def jedi(stormtrooper, key):\n",
    "    \"\"\"A secret message is sent through the Force using the Jedi cipher.\"\"\"\n",
    "    saber = \"\"\n",
    "    for char in stormtrooper:\n",
    "        if char.isalpha():\n",
    "            # A Jedi's power is determined by the key value\n",
    "            shift = ord(key[0].upper()) - ord('A')\n",
    "            # The Force is strong with this one\n",
    "            char = chr((ord(char.upper()) - ord('A') + shift) % 26 + ord('A'))\n",
    "        saber += char\n",
    "        # The key is constantly changing, like the Force\n",
    "        key = key[1:] + key[0]\n",
    "    return saber\n",
    "\n",
    "\n",
    "stormtrooper = input(\"Enter a transmission to the Jedi : \")\n",
    "key = (input(\"Enter the key for the Jedi transmission: \"))\n",
    "\n",
    "saber = jedi(stormtrooper, key)\n",
    "print(\"Jedied message: \" + saber)\n"
   ]
  },
  {
   "cell_type": "code",
   "execution_count": 9,
   "metadata": {},
   "outputs": [
    {
     "name": "stdout",
     "output_type": "stream",
     "text": [
      "Skywalkered message: CTF{THEFORCEISSTRONGWITHYOU}\n"
     ]
    }
   ],
   "source": [
    "def skywalker(saber, key):\n",
    "    stormtrooper = \"\"\n",
    "    for char in saber:\n",
    "        if char. isalpha():\n",
    "            shift = ord(key[0].upper()) - ord('A')\n",
    "            char = chr((ord(char.upper()) - ord('A') - shift) % 26 + ord('A'))\n",
    "        stormtrooper += char\n",
    "        key = key[1:] + key[0]\n",
    "    return stormtrooper\n",
    "\n",
    "key = \"19\"\n",
    "saber = \"MLP{DZOXYJMWSKCLBGXYGADZIGE}\"\n",
    "stormtrooper = skywalker(saber, key)\n",
    "print(\"Skywalkered message: \" + stormtrooper)"
   ]
  }
 ],
 "metadata": {
  "kernelspec": {
   "display_name": "Python 3",
   "language": "python",
   "name": "python3"
  },
  "language_info": {
   "codemirror_mode": {
    "name": "ipython",
    "version": 3
   },
   "file_extension": ".py",
   "mimetype": "text/x-python",
   "name": "python",
   "nbconvert_exporter": "python",
   "pygments_lexer": "ipython3",
   "version": "3.11.2"
  },
  "orig_nbformat": 4
 },
 "nbformat": 4,
 "nbformat_minor": 2
}
