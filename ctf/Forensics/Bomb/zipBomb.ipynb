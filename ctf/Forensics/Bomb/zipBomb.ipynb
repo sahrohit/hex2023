{
 "cells": [
  {
   "cell_type": "code",
   "execution_count": 2,
   "metadata": {},
   "outputs": [],
   "source": [
    "from zipfile import ZipFile\n",
    "\n",
    "zipObj = ZipFile('Zipped0.zip', 'w')\n",
    "zipObj.write('flag.txt')\n",
    "for i in range(1,250):\n",
    "    zipObj = ZipFile('Zipped'+str(i)+'.zip', 'w')\n",
    "    zipObj.write('Zipped'+str(i-1)+'.zip')\n",
    "    zipObj.close()"
   ]
  }
 ],
 "metadata": {
  "kernelspec": {
   "display_name": "Python 3",
   "language": "python",
   "name": "python3"
  },
  "language_info": {
   "codemirror_mode": {
    "name": "ipython",
    "version": 3
   },
   "file_extension": ".py",
   "mimetype": "text/x-python",
   "name": "python",
   "nbconvert_exporter": "python",
   "pygments_lexer": "ipython3",
   "version": "3.9.5"
  },
  "orig_nbformat": 4
 },
 "nbformat": 4,
 "nbformat_minor": 2
}
