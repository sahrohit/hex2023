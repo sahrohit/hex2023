{
 "cells": [
  {
   "cell_type": "code",
   "execution_count": 1,
   "metadata": {},
   "outputs": [],
   "source": [
    "from zipfile import ZipFile\n",
    "\n",
    "zipObj = ZipFile('Zipped0.zip', 'w')\n",
    "zipObj.write('nicetry.txt')\n",
    "for i in range(1,2049):\n",
    "    zipObj = ZipFile('Zipped'+str(i)+'.zip', 'w')\n",
    "    zipObj.write('Zipped'+str(i-1)+'.zip')\n",
    "    zipObj.close()"
   ]
  },
  {
   "cell_type": "code",
   "execution_count": 2,
   "metadata": {},
   "outputs": [],
   "source": [
    "from zipfile import ZipFile\n",
    "\n",
    "zipObj = ZipFile('Zipped2048.zip', 'w')\n",
    "for i in range(0,2047):\n",
    "    zipObj = ZipFile('Zipped'+str(2048-i)+'.zip', 'w')\n",
    "    zipObj.extractall()\n",
    "    zipObj.close()\n",
    "\n",
    "zipObj.close()"
   ]
  }
 ],
 "metadata": {
  "kernelspec": {
   "display_name": "Python 3",
   "language": "python",
   "name": "python3"
  },
  "language_info": {
   "codemirror_mode": {
    "name": "ipython",
    "version": 3
   },
   "file_extension": ".py",
   "mimetype": "text/x-python",
   "name": "python",
   "nbconvert_exporter": "python",
   "pygments_lexer": "ipython3",
   "version": "3.11.4"
  },
  "orig_nbformat": 4
 },
 "nbformat": 4,
 "nbformat_minor": 2
}
